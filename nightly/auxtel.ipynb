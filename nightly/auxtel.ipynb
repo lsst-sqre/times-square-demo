{
 "cells": [
  {
   "cell_type": "code",
   "execution_count": null,
   "id": "926844ed-af6a-4d3a-bf48-327bcf8d2bc8",
   "metadata": {},
   "outputs": [],
   "source": [
    "# imports\n",
    "from astropy.time import Time\n",
    "import pandas"
   ]
  },
  {
   "cell_type": "code",
   "execution_count": null,
   "id": "49a2fd33-baac-44cd-9e01-d20be3c81494",
   "metadata": {},
   "outputs": [],
   "source": [
    "# for template variables\n",
    "log_date = Time({{ params.log_date }})"
   ]
  },
  {
   "cell_type": "markdown",
   "id": "8b1ad306-afe8-4338-84c4-96a66945dc05",
   "metadata": {},
   "source": [
    "# {log_date} Aux-Tel Night Log"
   ]
  },
  {
   "cell_type": "markdown",
   "id": "2c4c6142-d584-4ca5-85cd-db7e8b6071b8",
   "metadata": {},
   "source": [
    "- Observers (on-summit):\n",
    "- Authors(s):\n",
    "- Daytime Support:\n",
    "- Online support:"
   ]
  },
  {
   "cell_type": "markdown",
   "id": "fceb81e9-2961-45b3-bc5d-d063323c07ab",
   "metadata": {},
   "source": [
    "### Almanac:\n",
    "Moonrise:  \n",
    "Moonset:  \n",
    "Sunset:  \n",
    "End of nautical twilight:  \n",
    "Beginning of morning nautical twilight:  \n",
    "Sunrise:"
   ]
  },
  {
   "cell_type": "markdown",
   "id": "218bc552-de13-4f37-8ec4-9293e46f40cf",
   "metadata": {},
   "source": [
    "### Weather Summary:"
   ]
  },
  {
   "cell_type": "code",
   "execution_count": null,
   "id": "df0002be-9ea5-40dc-aed6-8bce008957d0",
   "metadata": {},
   "outputs": [],
   "source": [
    "weather_table = pandas.DataFrame()\n",
    "print(weather_table)"
   ]
  },
  {
   "cell_type": "markdown",
   "id": "9df8608f-7ccf-4b91-8e44-16effbc384b5",
   "metadata": {},
   "source": [
    "### List of current software\n",
    "\n",
    "* Software/environment:\n",
    "* Scheduler environment:"
   ]
  },
  {
   "cell_type": "markdown",
   "id": "85497d48-3c4c-49ac-a5d1-38b12680b2d0",
   "metadata": {},
   "source": [
    "### Important Operations Status:"
   ]
  },
  {
   "cell_type": "markdown",
   "id": "56f1aa99-7931-4850-a6c2-1c8a74438d60",
   "metadata": {},
   "source": [
    "### Outstanding Daytime Tasks:"
   ]
  },
  {
   "cell_type": "markdown",
   "id": "c88b94b8-50d2-4e43-b47b-dcc7a04ab684",
   "metadata": {},
   "source": [
    "### Plan for the night\n"
   ]
  },
  {
   "cell_type": "markdown",
   "id": "57e77b6f-f334-4752-a717-83a270e0debf",
   "metadata": {},
   "source": [
    "### Nighttme summary"
   ]
  },
  {
   "cell_type": "markdown",
   "id": "877ff0c5-22d8-4e54-9560-6959070a0b2f",
   "metadata": {},
   "source": [
    "### Detailed Night Log:"
   ]
  },
  {
   "cell_type": "code",
   "execution_count": null,
   "id": "a67419dc-cc5e-434f-8f7e-66b52dab22b3",
   "metadata": {},
   "outputs": [],
   "source": [
    "log_table = pandas.DataFrame()\n",
    "print(log_table)"
   ]
  },
  {
   "cell_type": "markdown",
   "id": "b3eaa68b-b811-4bf8-9802-279fc9a38b42",
   "metadata": {},
   "source": [
    "### Exposure Log:\n",
    "links"
   ]
  }
 ],
 "metadata": {
  "kernelspec": {
   "display_name": "LSST",
   "language": "python",
   "name": "lsst"
  },
  "language_info": {
   "codemirror_mode": {
    "name": "ipython",
    "version": 3
   },
   "file_extension": ".py",
   "mimetype": "text/x-python",
   "name": "python",
   "nbconvert_exporter": "python",
   "pygments_lexer": "ipython3",
   "version": "3.10.4"
  }
 },
 "nbformat": 4,
 "nbformat_minor": 5
}
