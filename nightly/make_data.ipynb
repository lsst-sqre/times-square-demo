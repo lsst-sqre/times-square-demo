{
 "cells": [
  {
   "cell_type": "code",
   "execution_count": null,
   "id": "1c6504dd-878a-4c8d-aaac-782b5be41df4",
   "metadata": {},
   "outputs": [],
   "source": [
    "from pandas import DataFrame\n",
    "from astropy.time import Time, TimeDelta\n",
    "from dateutil import parser\n",
    "from IPython.display import display, Markdown"
   ]
  },
  {
   "cell_type": "code",
   "execution_count": null,
   "id": "22f40ff0-f448-4238-8ae2-e1ec552e08dd",
   "metadata": {},
   "outputs": [],
   "source": [
    "log_date_param = '2022-04-05'\n",
    "# need to account for daylight savings\n",
    "log_date = Time(parser.isoparse(f'{log_date_param}T00:00:00.00-04:00'))"
   ]
  },
  {
   "cell_type": "code",
   "execution_count": null,
   "id": "5370f40c-29a8-406b-a4ee-55f7fe7ed17e",
   "metadata": {},
   "outputs": [],
   "source": [
    "data = {}\n",
    "data['Observation Time*'] = [10.2,]\n",
    "data['Science'] = [6.6,]\n",
    "data['Weather Loss'] = [0.,]\n",
    "data['Technical faults'] = [1.3,]\n",
    "data['Software faults'] = [0.4,]\n",
    "data['Engineering'] =[1.6,]\n",
    "data['Commissioning'] = [0.,]\n",
    "data['Education**'] = [0.3,]\n",
    "time_accounting = DataFrame.from_dict(data)\n",
    "time_accounting.to_csv('time_accounting.csv')"
   ]
  },
  {
   "cell_type": "code",
   "execution_count": null,
   "id": "0748098c-246b-4648-852a-7ec3680214e2",
   "metadata": {},
   "outputs": [],
   "source": [
    "ops_status = \\\n",
    "'''\n",
    "* &#11096; Any large hexapod motions must happen near the zenith to avoid surpassing the maximum load permitted by the hexapod.\n",
    "* &#11096; Fan should not run above 50% capacity when being used on-sky.\n",
    "* &#11096; **Doing snaps this run** – see details in https://sitcomtn-032.lsst.io/ \n",
    "* &#11096; Scripts now use the \"time_on_target\" parameter to optimize the azimuth and rotator position\n",
    "    * &#9654; time estimate is primarily based on exposure time and estimated overheads\n",
    "        * &#10141; If you hit a limit please let Patrick know!\n",
    "* &#11096; Mount motion issues (unchanged)\n",
    "    * &#9654; Settling\n",
    "        * &#10141; Now have the a parameters to adjust the mount settling (this is not going to help the blips seen at the pole)\n",
    "            * &bull; Tiago has removed the ATCS bug, now relying fully on the ATMCS\n",
    "        * &#10141; Please flag where exposures are bad after a slew/offset\n",
    "    * &#9654; Tracking \n",
    "        * &#10141; A very slow speeds (the pole) - this issue remains\n",
    "        * &#10141; At high speeds (cogging) - you probably won't actually see this visually, but it will slightly degrade the PSF\n",
    "    * &#9654; Nasymth over-torque:\n",
    "        * &#10141; Need more data to track down where/when this occurs, just log when it faults and continue\n",
    "    * &#9654; Others (including wind)\n",
    "        * &#10141; Take accelerometer data!\n",
    "        * &#10141; Pause scriptQueue, take data with accelerometers, then resume the scriptQueue \n",
    "'''\n",
    "with open('ops_status.txt', 'w') as fh:\n",
    "    fh.write(ops_status)\n",
    "display(Markdown(ops_status))"
   ]
  },
  {
   "cell_type": "code",
   "execution_count": null,
   "id": "bba4a0ea-4047-4f75-9c7b-5d3f53e577bc",
   "metadata": {},
   "outputs": [],
   "source": [
    "night_plan = 'Scheduler-driven imaging and engineering tasks.'\n",
    "with open('night_plan.txt', 'w') as fh:\n",
    "    fh.write(night_plan)\n",
    "display(Markdown(night_plan))"
   ]
  },
  {
   "cell_type": "code",
   "execution_count": null,
   "id": "3dcb8cf7-0a95-438f-83b1-1a725ef01f97",
   "metadata": {},
   "outputs": [],
   "source": [
    "night_summary = 'A bit of a rocky start with the k8s cluster going down and other errors, but we accomplished a lot of engineering tasks and completed the imaging survey, including repeat visits.'\n",
    "with open('night_summary.txt', 'w') as fh:\n",
    "    fh.write(night_summary)\n",
    "display(Markdown(night_summary))"
   ]
  },
  {
   "cell_type": "code",
   "execution_count": null,
   "id": "3f1b5728-d54f-4ed8-bea2-a33de3e955e9",
   "metadata": {},
   "outputs": [],
   "source": [
    "def make_pretty(styler):\n",
    "    styler.format(lambda x: f'{x:.2f}' if (isinstance(x, float) or isinstance(x, int)) else x)\n",
    "    styler.hide(axis='index')\n",
    "    styler.background_gradient(axis=None, vmin=0, vmax=12., cmap='YlGnBu')\n",
    "    return styler\n",
    "\n",
    "display(time_accounting.style.pipe(make_pretty))"
   ]
  },
  {
   "cell_type": "code",
   "execution_count": null,
   "id": "15dd043a-d240-4fc6-a1ef-f7e9447a5542",
   "metadata": {},
   "outputs": [],
   "source": [
    "time_accounting.to_csv('time_accounting.csv')"
   ]
  },
  {
   "cell_type": "code",
   "execution_count": null,
   "id": "4e40d8f3-9679-471d-8feb-b7b7e398a2c9",
   "metadata": {},
   "outputs": [],
   "source": [
    "def make_pretty_times(styler):\n",
    "    styler.format(lambda x: f'{x:.2f}' if (isinstance(x, float) or isinstance(x, int)) else x)\n",
    "    styler.background_gradient(axis=None, vmin=0, vmax=6., cmap='YlGnBu')\n",
    "    styler.format_index(lambda v: v.strftime(\"UTC %c\"))\n",
    "    return styler\n",
    "\n",
    "def make_times(dts, btime):\n",
    "    times = []\n",
    "    for dt in dts:\n",
    "        secs = sum([a*b for a, b in zip(sec_arr, [int(el) for el in dt.split(':')])])\n",
    "        if secs < 12*3600:\n",
    "            secs += 24*3600\n",
    "        times.append(btime + TimeDelta(secs, format='sec'))\n",
    "    return times\n",
    "\n",
    "data = {}\n",
    "\n",
    "obs_times = ['19:30', '20:00', '20:30', '20:45', '23:25', '3:16:42']\n",
    "data['Time (summit)'] = make_times(obs_times, log_date)\n",
    "data['Summary'] = ['Dropped LATISS image', 'DIMM failed to startup',\n",
    "                   'DIMM CSC publishing fake data', 'notebook server/k8s cluster crash and reboot',\n",
    "                   'Nasmyth 2 max velocity exceeded', 'Test entry for past midnight entries']\n",
    "data['Ticket number'] = ['OBS-25', 'OBS-27', 'OBS-26', '--', 'DM-30709', '--']\n",
    "data['Sky time loss/Time to recover (hours)'] = [0.0, 0.0, 0.0, 0.6, 0.7, 5.0]\n",
    "data['Notes'] = ['', '', '', '', 'fault loss due to recovering the pointing after moving nasymith 2 with EUI',\n",
    "                 'loss due to Simon falling asleep at the wheel']\n",
    "\n",
    "fault_reports = DataFrame.from_dict(data)\n",
    "fault_reports = fault_reports.set_index('Time (summit)')\n",
    "fault_reports.to_csv('faults.csv')\n",
    "display(fault_reports.style.pipe(make_pretty_times))\n"
   ]
  },
  {
   "cell_type": "code",
   "execution_count": null,
   "id": "11118689-9b61-46c2-8f96-5f043571e8a2",
   "metadata": {},
   "outputs": [],
   "source": [
    "data = {}\n",
    "\n",
    "obs_times = ['20:00', '23:00', '02:00']\n",
    "data['Time (summit)'] = make_times(obs_times, log_date)\n",
    "data['Conditions'] = ['clear, calm', 'clear/calm', 'clear']\n",
    "data['Humidity'] = [22.5, 19, 18]\n",
    "data['Wind speed (m/s)'] = [2, 3.5, 5.1]\n",
    "data['Direction (degrees)'] = [303, 319, 303]\n",
    "data['DIMM seeing'] = ['(Gemini) 0.52\"', 'Rubin 1.44\"', 'Rubin 1.13\"']\n",
    "\n",
    "weather = DataFrame.from_dict(data)\n",
    "weather = weather.set_index('Time (summit)')\n",
    "weather.to_csv('weather.csv')\n",
    "display(weather.style.pipe(make_pretty_times))"
   ]
  },
  {
   "cell_type": "code",
   "execution_count": null,
   "id": "6d4485d0-bdb5-4d03-90b1-6ad56d029556",
   "metadata": {},
   "outputs": [],
   "source": [
    "data = {}\n",
    "\n",
    "data['Tasks'] = ['Practice of scheduler operations on the TTS',\n",
    "                 'Train operators to run/read Craig\\'s accelerometer notebook(s?)',\n",
    "                 'Test \"time on target\" parameter of slew_target',\n",
    "                 'Update image type for acquisitions in scripts']\n",
    "data['Notes'] = ['',\n",
    "                 '',\n",
    "                 'TTS unavailable, will need to verify on-sky',\n",
    "                 'Consider either modifying the scheduler plan to stay on target without continually re-acquiring, or find a new way to check whether or not we\\'re already acquired via the script+Scheduler']\n",
    "\n",
    "day_tasks = DataFrame.from_dict(data)\n",
    "day_tasks.to_csv('day_tasks.csv')\n",
    "display(day_tasks.style.pipe(make_pretty))"
   ]
  },
  {
   "cell_type": "code",
   "execution_count": null,
   "id": "2613040b-adda-4b97-906b-4fba24a6b1fc",
   "metadata": {},
   "outputs": [],
   "source": [
    "data = {}\n",
    "\n",
    "obs_times = ['15:30', '16:23', '18:03', '19:30', '19:35', '19:42', '19:52', '19:54', '20:00', '20:30', '20:43', '20:51', '21:00', '21:11',\n",
    "             '21:18', '21:20', '21:24', '21:39', '21:43', '21:44', '21:49', '21:56', '22:19', '23:25', '23:28', '00:02', '00:05', '00:10',\n",
    "             '00:20', '00:25', '00:38', '00:40', '00:45', '00:50', '00:55', '02:21', '04:35', '04:41', '04:43', '06:02', '06:04', '06:10']\n",
    "data['Time (summit)'] = make_times(obs_times, log_date)\n",
    "data['Event'] = ['Night crew arrives to summit, beginning daily checkout', 'Beginning afternoon calibrations.',\n",
    "                 'Running prepare for onsky with script queue', 'Attempted to run scriptQueue wfs script, but it failed',\n",
    "                 'Initiated script again, completed successfully.', 'Determine that this failed due to a dropped image 207 - no butler image',\n",
    "                 'Running acquire and take sequence to absorb pointing offsets', '12 degree twilight, beginning of science time',\n",
    "                 'Running scheduler driven operations', 'Relying on Gemini DIMM data for the moment, in the process of troubleshooting Rubin DIMM - See OBS-27',\n",
    "                 'Scheduler went into fault - beginning technical time loss', 'Unable to talk to EFD, and notebook servers have crashed',\n",
    "                 '*Lost all CSCs on the k8 clusters*', '*After cluster was re-started, recovered ATCS and CSCs*', 'Resumed scheduler operations, starting with cwfs - end technical time loss',\n",
    "                 'DIMM begins working after some trouble.', 'We did not enable ataos corrections, scheduler went into fault - educational time', 'Running a new focus script separate from scheduler - establishing new baseline',\n",
    "                 'Script failed due to a second bright star in the field - ts_external_scripts was on the wrong branch',\n",
    "                 'Re-running script on a new target - end of educational time', 'Resuming scheduler-driven operations',\n",
    "                 'Interrupt scheduler-driven observations to go for engineering', 'Resume scheduler driving operations after environment troubles',\n",
    "                 'ATPtg went into fault, nasmyth 2 max velocity error exceeded - technical fault', 'Recovered', 'Nasmyth 2 max velocity exceeded, causing a ATPtg fault. Recovered CSCs.',\n",
    "                 'Going to rotate nasmyth with the EUI from 132 → 20 to try and \"kick the error out.\" Be gone, Beezulbub!',\n",
    "                 'After going in through the EUI and trying to force the nasmyth, the telescope does not respond to slew/pointing commands.',\n",
    "                 'Sending ATPTg and ATMCS CSCs to standby and back to enabled.', 'Telescope not receiving target commands.', 'Sending the pointing to offline, and then back online. Able to slew.',\n",
    "                 'Beginning some engineering tasks.', 'Eng#1_Donut_Pairs Eng#1_Donut_Pairs.pdf', 'Eng#3_Parabolic Focus Sweep  Eng#3_Parabolic_Focus_Sequence.pdf',\n",
    "                 'Eng#2_PSF_Ellipticity Eng#2_PSF_Ellipticipy.pdf', 'Going to go back to scheduler.', 'Notice that scriptQueue is hung up on wfs calculation, possibly due to another bright target in the field.',\n",
    "                 'Kill the step, continue with imaging.', 'Load a separate cwfs to catch a focus and continue with survey.',\n",
    "                 'Scheduler goes into fault due to not having another target - calling the night.', 'Beginning of nautical twilight. Running shutdown script.',\n",
    "                 'Night crew departing summit.']\n",
    "data['Target'] = ['' for el in data['Time (summit)']]\n",
    "data['Exposure numbers(s)'] = ['' for el in data['Time (summit)']]\n",
    "data['Exposure Time (secs)'] = ['' for el in data['Time (summit)']]\n",
    "data['Exposure Time (secs)'][32] = '(449 to 521)'\n",
    "data['Exposure Time (secs)'][33] = '(523, 531)'\n",
    "data['Exposure Time (secs)'][34] = '(536, 601) are these actually expsure numbers?'\n",
    "data['Good Spectrum?'] = ['' for el in data['Time (summit)']]\n",
    "data['Comments'] = ['' for el in data['Time (summit)']]\n",
    "data['Comments'][3] = \"\"\"Error in run\n",
    "\n",
    "b'Traceback (most recent call last):\\n File \"/opt/lsst/software/stack/conda/miniconda3-py38_4.9.2/envs/lsst-scipipe-3.0.0/lib/python3.8/site-packages/lsst/ts/salobj/base_script.py\", line 589, in do_run\\n await self._run_task\\n File \"/home/saluser/ts_externalscripts/python/lsst/ts/externalscripts/auxtel/latiss_cwfs_align.py\", line 974, in run\\n await self.arun(True)\\n File \"/home/saluser/ts_externalscripts/python/lsst/ts/externalscripts/auxtel/latiss_cwfs_align.py\", line 869, in arun\\n results = await self.run_cwfs()\\n File \"/home/saluser/ts_externalscripts/python/lsst/ts/externalscripts/auxtel/latiss_cwfs_align.py\", line 389, in run_cwfs\\n self.intra_exposure, self.extra_exposure = await asyncio.gather(\\n File \"/home/saluser/ts_observing_utilities/python/lsst/ts/observing/utilities/auxtel/latiss/getters.py\", line 66, in get_image\\n raise TimeoutError(\\nTimeoutError: Unable to get raw image from butler in 20.0 seconds.'\n",
    "\n",
    "See OBS-25\"\"\"\n",
    "data['Comments'][10] = \"\"\"Error on advance target production loop.\n",
    "Traceback (most recent call last): File \"/opt/lsst/software/stack/miniconda/lib/python3.8/site-packages/aiohttp/connector.py\", line 1154, in _create_direct_connection hosts = await  aiohttp.client_exceptions.ClientConnectorError: Cannot connect to host influxdb-summit-efd.lsst.codes:30828 ssl:default [Name or service not known]\"\"\"\n",
    "data['Comments'][23] = 'DM-30709'\n",
    "data['Comments'][29] = 'Exception image'\n",
    "data['Comments'][34] = 'Link to sequence list'\n",
    "night_log = DataFrame.from_dict(data)\n",
    "night_log = night_log.set_index('Time (summit)')\n",
    "night_log.to_csv('night_log.csv')\n",
    "display(night_log.style.pipe(make_pretty_times))"
   ]
  },
  {
   "cell_type": "code",
   "execution_count": null,
   "id": "db07d60d-708c-4de6-aa74-76f5d3c4776d",
   "metadata": {},
   "outputs": [],
   "source": [
    "print(night_log)"
   ]
  },
  {
   "cell_type": "code",
   "execution_count": null,
   "id": "7c55deef-75db-424c-b4c1-705d8c12b55f",
   "metadata": {},
   "outputs": [],
   "source": []
  }
 ],
 "metadata": {
  "kernelspec": {
   "display_name": "LSST",
   "language": "python",
   "name": "lsst"
  },
  "language_info": {
   "codemirror_mode": {
    "name": "ipython",
    "version": 3
   },
   "file_extension": ".py",
   "mimetype": "text/x-python",
   "name": "python",
   "nbconvert_exporter": "python",
   "pygments_lexer": "ipython3",
   "version": "3.10.4"
  }
 },
 "nbformat": 4,
 "nbformat_minor": 5
}
