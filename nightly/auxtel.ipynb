{
 "cells": [
  {
   "cell_type": "code",
   "execution_count": null,
   "id": "926844ed-af6a-4d3a-bf48-327bcf8d2bc8",
   "metadata": {
    "tags": []
   },
   "outputs": [],
   "source": [
    "# imports\n",
    "from astropy.time import Time\n",
    "from astroplan import Observer\n",
    "import numpy\n",
    "import pandas\n",
    "from urllib import parse as urlparse, request\n",
    "import json\n",
    "from IPython.display import display, Markdown\n",
    "\n",
    "import lsst.daf.butler as dafButler"
   ]
  },
  {
   "cell_type": "code",
   "execution_count": null,
   "id": "49a2fd33-baac-44cd-9e01-d20be3c81494",
   "metadata": {
    "tags": []
   },
   "outputs": [],
   "source": [
    "# for template variables\n",
    "# log_date = Time({{ params.log_date }})\n",
    "# url_base = {{ params.url_base }}"
   ]
  },
  {
   "cell_type": "code",
   "execution_count": null,
   "id": "266c6998-9fbe-4a6e-9b23-61a34550b66c",
   "metadata": {
    "tags": []
   },
   "outputs": [],
   "source": [
    "from dateutil import parser\n",
    "log_date_param = '2022-04-05'\n",
    "# need to account for daylight savings\n",
    "log_date = Time(parser.isoparse(f'{log_date_param}T12:00:00.00-04:00'))\n",
    "url_base = f'https://lsst.ncsa.illinois.edu/~krughoff/data/auxtel_nightly/{log_date_param}/'"
   ]
  },
  {
   "cell_type": "code",
   "execution_count": null,
   "id": "d66e264c-bb02-49a2-a4b1-d9d6b7289595",
   "metadata": {
    "tags": []
   },
   "outputs": [],
   "source": [
    "def make_pretty(styler):\n",
    "    styler.format(lambda x: f'{x:.2f}' if (isinstance(x, float) or isinstance(x, int)) else x)\n",
    "    styler.hide(axis='index')\n",
    "    styler.background_gradient(axis=None, vmin=0, vmax=12., cmap='YlGnBu')\n",
    "    return styler\n",
    "\n",
    "def make_pretty_times(styler):\n",
    "    styler.format(lambda x: f'{x:.2f}' if (isinstance(x, float) or isinstance(x, int)) else x)\n",
    "    styler.background_gradient(axis=None, vmin=0, vmax=6., cmap='YlGnBu')\n",
    "    styler.format_index(lambda v: v.strftime(\"UTC %c\"))\n",
    "    return styler"
   ]
  },
  {
   "cell_type": "code",
   "execution_count": null,
   "id": "878a36f4-f80c-4d77-9e51-bcf2fac26ff4",
   "metadata": {
    "tags": []
   },
   "outputs": [],
   "source": [
    "def get_dict(url_base, fn):\n",
    "    with request.urlopen(urlparse.urljoin(url_base, fn)) as response:\n",
    "        txt = response.read()\n",
    "    return json.loads(txt)"
   ]
  },
  {
   "cell_type": "code",
   "execution_count": null,
   "id": "fe697538-3a95-4388-8af0-294be4564bfa",
   "metadata": {
    "tags": []
   },
   "outputs": [],
   "source": [
    "def get_text_blob(url_base, fn):\n",
    "    with request.urlopen(urlparse.urljoin(url_base, fn)) as response:\n",
    "        txt = response.read()\n",
    "    return txt.decode('utf-8')"
   ]
  },
  {
   "cell_type": "code",
   "execution_count": null,
   "id": "4201870e-e64f-4a0f-aab4-72343945444d",
   "metadata": {
    "tags": []
   },
   "outputs": [],
   "source": [
    "def get_df(url_base, fn, parse_dates=True):\n",
    "    return pandas.read_csv(urlparse.urljoin(url_base, fn), index_col=0, parse_dates=parse_dates,\n",
    "                           keep_default_na=False)"
   ]
  },
  {
   "cell_type": "code",
   "execution_count": null,
   "id": "c163bbdb-cd88-4410-9338-a1a466573bdc",
   "metadata": {
    "tags": []
   },
   "outputs": [],
   "source": [
    "title = f'# {log_date_param} Aux-Tel Night Log'\n",
    "display(Markdown(title))"
   ]
  },
  {
   "cell_type": "code",
   "execution_count": null,
   "id": "bd1bfc84-c6c0-4918-a599-67f2b4a4ad68",
   "metadata": {
    "tags": []
   },
   "outputs": [],
   "source": [
    "obs_dict = get_dict(url_base, 'observers.txt')\n",
    "obs_list = f'''\n",
    "- Observers (on-summit): {obs_dict['observers']}\n",
    "- Authors(s): {obs_dict['authors']}\n",
    "- Daytime Support: {obs_dict['day']}\n",
    "- Online support: {obs_dict['online']}\n",
    "'''\n",
    "display(Markdown(obs_list))"
   ]
  },
  {
   "cell_type": "markdown",
   "id": "fceb81e9-2961-45b3-bc5d-d063323c07ab",
   "metadata": {},
   "source": [
    "### Almanac:"
   ]
  },
  {
   "cell_type": "code",
   "execution_count": null,
   "id": "19b934ce-e1cc-41dd-9543-1ae62eec1afe",
   "metadata": {
    "tags": []
   },
   "outputs": [],
   "source": [
    "gemini = Observer.at_site('gemini_south')\n",
    "# we could get pressure and temp from the EFD to make refraction calculations more accurate\n",
    "moon_rise = gemini.moon_rise_time(log_date, which='next')\n",
    "moon_set = gemini.moon_set_time(log_date, which='next')\n",
    "if moon_set < moon_rise:\n",
    "    moon_rise = gemini.moon_rise_time(log_date, which='previous')\n",
    "sun_set = gemini.sun_set_time(log_date, which='next')\n",
    "sun_rise = gemini.sun_rise_time(log_date, which='next')\n",
    "evening_twilight = gemini.twilight_evening_nautical(log_date, which='next')\n",
    "morning_twilight = gemini.twilight_morning_nautical(log_date, which='next')"
   ]
  },
  {
   "cell_type": "code",
   "execution_count": null,
   "id": "377f959a-dd52-4f7b-b7a5-a9a60b903263",
   "metadata": {
    "tags": []
   },
   "outputs": [],
   "source": [
    "almanac_str = f'''Moonrise: {moon_rise.strftime(\"UTC %c\")}  \n",
    "Sunset: {sun_set.strftime(\"UTC %c\")}  \n",
    "End of nautical twilight: {evening_twilight.strftime(\"UTC %c\")}  \n",
    "Moonset: {moon_set.strftime(\"UTC %c\")}  \n",
    "Beginning of morning nautical twilight: {morning_twilight.strftime(\"UTC %c\")}  \n",
    "Sunrise: {sun_rise.strftime(\"UTC %c\")}  \n",
    "'''\n",
    "display(Markdown(almanac_str))"
   ]
  },
  {
   "cell_type": "markdown",
   "id": "9df8608f-7ccf-4b91-8e44-16effbc384b5",
   "metadata": {},
   "source": [
    "### List of current software\n",
    "\n",
    "* Software/environment:\n",
    "* Scheduler environment:"
   ]
  },
  {
   "cell_type": "markdown",
   "id": "85497d48-3c4c-49ac-a5d1-38b12680b2d0",
   "metadata": {},
   "source": [
    "### Important Operations Status:"
   ]
  },
  {
   "cell_type": "code",
   "execution_count": null,
   "id": "9e095f8b-d9e4-4b52-8c85-9a80c9560063",
   "metadata": {
    "tags": []
   },
   "outputs": [],
   "source": [
    "ops_stat_str = get_text_blob(url_base, 'ops_status.txt')\n",
    "display(Markdown(ops_stat_str))"
   ]
  },
  {
   "cell_type": "markdown",
   "id": "56f1aa99-7931-4850-a6c2-1c8a74438d60",
   "metadata": {},
   "source": [
    "### Outstanding Daytime Tasks:"
   ]
  },
  {
   "cell_type": "code",
   "execution_count": null,
   "id": "2246f172-30bc-4a54-a8e3-bd863003acce",
   "metadata": {
    "tags": []
   },
   "outputs": [],
   "source": [
    "tasks = get_df(url_base, 'day_tasks.csv', parse_dates=False)\n",
    "display(tasks.style.pipe(make_pretty))"
   ]
  },
  {
   "cell_type": "markdown",
   "id": "c88b94b8-50d2-4e43-b47b-dcc7a04ab684",
   "metadata": {},
   "source": [
    "### Plan for the night\n"
   ]
  },
  {
   "cell_type": "code",
   "execution_count": null,
   "id": "730965af-da53-4e1c-a4c8-f1cd361ac405",
   "metadata": {
    "tags": []
   },
   "outputs": [],
   "source": [
    "night_plan_str = get_text_blob(url_base, 'night_plan.txt')\n",
    "display(Markdown(night_plan_str))"
   ]
  },
  {
   "cell_type": "markdown",
   "id": "57e77b6f-f334-4752-a717-83a270e0debf",
   "metadata": {},
   "source": [
    "### Nighttme summary"
   ]
  },
  {
   "cell_type": "code",
   "execution_count": null,
   "id": "87ed5faf-2591-46e7-a25f-836aba0ff33b",
   "metadata": {
    "tags": []
   },
   "outputs": [],
   "source": [
    "night_summary_str = get_text_blob(url_base, 'night_summary.txt')\n",
    "display(Markdown(night_summary_str))"
   ]
  },
  {
   "cell_type": "markdown",
   "id": "b9a7d4ac-010f-4433-b543-65e146b79922",
   "metadata": {},
   "source": [
    "Snapshot from tonight's imaging survey **??????**"
   ]
  },
  {
   "cell_type": "markdown",
   "id": "dd59e363-9318-465d-acf1-89cf6ce1de99",
   "metadata": {},
   "source": [
    "### Time accounting:"
   ]
  },
  {
   "cell_type": "code",
   "execution_count": null,
   "id": "9cdcdce2-2d58-42b5-a7f4-278451bef167",
   "metadata": {
    "tags": []
   },
   "outputs": [],
   "source": [
    "ta = get_df(url_base, 'time_accounting.csv', parse_dates=False)\n",
    "display(ta.style.pipe(make_pretty))"
   ]
  },
  {
   "cell_type": "markdown",
   "id": "907d4f34-200e-430b-8b10-901b1e7f777c",
   "metadata": {},
   "source": [
    "All times reported in hours.  \n",
    "\\* Defined as the total number of hours between 12 degrees (nautical) evening and morning twilights.  \n",
    "** Defined as time spent for observers/support to better understand the system."
   ]
  },
  {
   "cell_type": "markdown",
   "id": "b7376aa5-8392-492d-bc76-199fccf446fa",
   "metadata": {},
   "source": [
    "### Fault reports:"
   ]
  },
  {
   "cell_type": "code",
   "execution_count": null,
   "id": "42d38129-b902-4b15-ae6e-a75395eb0964",
   "metadata": {
    "tags": []
   },
   "outputs": [],
   "source": [
    "fr = get_df(url_base, 'faults.csv')\n",
    "display(fr.style.pipe(make_pretty_times))"
   ]
  },
  {
   "cell_type": "markdown",
   "id": "7327277c-7eae-41ac-b632-4fd8970d841a",
   "metadata": {},
   "source": [
    "### Weather summary:"
   ]
  },
  {
   "cell_type": "code",
   "execution_count": null,
   "id": "df0002be-9ea5-40dc-aed6-8bce008957d0",
   "metadata": {
    "tags": []
   },
   "outputs": [],
   "source": [
    "weather = get_df(url_base, 'weather.csv')\n",
    "display(weather.style.pipe(make_pretty_times))"
   ]
  },
  {
   "cell_type": "markdown",
   "id": "877ff0c5-22d8-4e54-9560-6959070a0b2f",
   "metadata": {},
   "source": [
    "### Detailed Night Log:"
   ]
  },
  {
   "cell_type": "code",
   "execution_count": null,
   "id": "a67419dc-cc5e-434f-8f7e-66b52dab22b3",
   "metadata": {
    "tags": []
   },
   "outputs": [],
   "source": [
    "nl = get_df(url_base, 'night_log.csv')\n",
    "display(nl.style.pipe(make_pretty_times))"
   ]
  },
  {
   "cell_type": "markdown",
   "id": "b3eaa68b-b811-4bf8-9802-279fc9a38b42",
   "metadata": {},
   "source": [
    "### Exposure Log:\n",
    "[log](https://confluence.lsstcorp.org/download/attachments/182427721/LATISS_20220405_Log%20%281%29.csv?version=1&modificationDate=1649261980000&api=v2)\n",
    "\n",
    "> unfortunately, the above is not parameterizeable because the attachment id isn't something I know how to discover"
   ]
  },
  {
   "cell_type": "markdown",
   "id": "98e29126-76fd-4a50-aac9-8834aad21c31",
   "metadata": {},
   "source": [
    "### Below is fake because we are working on data-int, so don't have access to the nightly LATISS logs.  We are using DP0.2 instead."
   ]
  },
  {
   "cell_type": "code",
   "execution_count": null,
   "id": "d05a6c33-82b1-47c0-9bb5-b856829982cf",
   "metadata": {
    "tags": []
   },
   "outputs": [],
   "source": [
    "repo = 'dp02'\n",
    "butler = dafButler.Butler(repo, collections='2.2i/runs/DP0.2')\n",
    "registry = butler.registry\n",
    "recs = registry.queryDimensionRecords(bind={'day': 20211231}, where=\"exposure.day_obs = day\", element='exposure', instrument='LSSTCam-imSim')\n",
    "data = {}\n",
    "data['Exposure start'] = []\n",
    "data['Physical filter'] = []\n",
    "data['Exposure time'] = []\n",
    "for rec in recs:\n",
    "    if rec.observation_type == 'science':\n",
    "        data['Exposure start'].append(rec.timespan.begin)\n",
    "        data['Physical filter'].append(rec.physical_filter)\n",
    "        data['Exposure time'].append(rec.exposure_time)\n",
    "        \n",
    "exp_log = pandas.DataFrame.from_dict(data)\n",
    "exp_log = exp_log.set_index('Exposure start')\n",
    "display(exp_log.style.pipe(make_pretty_times))"
   ]
  }
 ],
 "metadata": {
  "kernelspec": {
   "display_name": "LSST",
   "language": "python",
   "name": "lsst"
  },
  "language_info": {
   "codemirror_mode": {
    "name": "ipython",
    "version": 3
   },
   "file_extension": ".py",
   "mimetype": "text/x-python",
   "name": "python",
   "nbconvert_exporter": "python",
   "pygments_lexer": "ipython3",
   "version": "3.10.4"
  }
 },
 "nbformat": 4,
 "nbformat_minor": 5
}
