{
 "cells": [
  {
   "cell_type": "code",
   "execution_count": null,
   "id": "4b687846-401e-4e00-9dfc-70e7e36ce69a",
   "metadata": {
    "tags": []
   },
   "outputs": [],
   "source": [
    "from imageExaminer import ImageExaminer\n",
    "from lsst.daf.butler import Butler\n",
    "\n",
    "import matplotlib\n",
    "%matplotlib inline"
   ]
  },
  {
   "cell_type": "code",
   "execution_count": null,
   "id": "a7125db3-1f11-4e40-b542-7f90b55d6cda",
   "metadata": {},
   "outputs": [],
   "source": [
    "# visit = {{ params.visit }}\n",
    "# detector_name = {{ params.detector }}\n",
    "visit = 1225401\n",
    "detector_name = 'R22_S00'"
   ]
  },
  {
   "cell_type": "code",
   "execution_count": null,
   "id": "97d11071-e63b-4552-bfd5-61956129d0bc",
   "metadata": {},
   "outputs": [],
   "source": [
    "butler = Butler('dp02', collections='2.2i/runs/DP0.2')\n",
    "registry = butler.registry"
   ]
  },
  {
   "cell_type": "code",
   "execution_count": null,
   "id": "f7628aa2-5821-4bbc-b26d-58b567bd5fb3",
   "metadata": {},
   "outputs": [],
   "source": [
    "cam = butler.get('camera', instrument='LSSTCam-imSim')\n",
    "detector_id = cam[detector_name].getId()"
   ]
  },
  {
   "cell_type": "code",
   "execution_count": null,
   "id": "17363346-aa36-44c3-a12f-eb2dc323e9b5",
   "metadata": {},
   "outputs": [],
   "source": [
    "exp = butler.get('calexp', visit=visit, detector=detector_id)"
   ]
  },
  {
   "cell_type": "markdown",
   "id": "65c42be2-951d-45ec-ad9a-4a68e1bf267d",
   "metadata": {},
   "source": [
    "# Report for visit = {{ visit }}, detector = {{ detector_name }}({{ detector_id }})"
   ]
  },
  {
   "cell_type": "code",
   "execution_count": null,
   "id": "019f2ffa-66d8-47c4-ade1-566e367b94a9",
   "metadata": {},
   "outputs": [],
   "source": [
    "ie = ImageExaminer(exp)\n",
    "plt = ie.plot()"
   ]
  }
 ],
 "metadata": {
  "kernelspec": {
   "display_name": "LSST",
   "language": "python",
   "name": "lsst"
  },
  "language_info": {
   "codemirror_mode": {
    "name": "ipython",
    "version": 3
   },
   "file_extension": ".py",
   "mimetype": "text/x-python",
   "name": "python",
   "nbconvert_exporter": "python",
   "pygments_lexer": "ipython3",
   "version": "3.10.4"
  }
 },
 "nbformat": 4,
 "nbformat_minor": 5
}
