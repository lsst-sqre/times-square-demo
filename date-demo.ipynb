{
 "cells": [
  {
   "cell_type": "markdown",
   "metadata": {},
   "source": [
    "# Date and date-time handling\n",
    "\n",
    "The start date is {{ params.start_date }}.\n",
    "\n",
    "The start time is {{ params.start_time }} and with explicit formatting: {{ params.start_time.strftime('%Y-%m-%d %H:%M:%S %Z') }}."
   ]
  },
  {
   "cell_type": "code",
   "execution_count": null,
   "metadata": {},
   "outputs": [],
   "source": [
    "# Parameter assignments\n",
    "import datetime\n",
    "start_date = datetime.date.fromisoformat(\"2025-02-01\")\n",
    "start_time = datetime.datetime.fromisoformat(\"2025-02-01T12:00Z\")\n",
    "end_time = datetime.datetime.fromisoformat(\"2025-02-01T12:00-05:00\")"
   ]
  },
  {
   "cell_type": "markdown",
   "metadata": {},
   "source": [
    "Difference in dates:"
   ]
  },
  {
   "cell_type": "code",
   "execution_count": null,
   "metadata": {},
   "outputs": [],
   "source": [
    "end_time - start_time"
   ]
  }
 ],
 "metadata": {
  "language_info": {
   "name": "python"
  }
 },
 "nbformat": 4,
 "nbformat_minor": 2
}
