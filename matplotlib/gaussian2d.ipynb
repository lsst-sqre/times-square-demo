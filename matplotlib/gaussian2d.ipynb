{
 "cells": [
  {
   "cell_type": "markdown",
   "id": "a6bfe7b6-e66c-4562-9edb-b5d22b0f05ec",
   "metadata": {},
   "source": [
    "# 2D Gaussian distribution\n",
    "\n",
    "This demonstration is from the [Matplotlib example gallery](https://matplotlib.org/stable/gallery/lines_bars_and_markers/scatter_hist.html). You can control the distribution's standard deviation and origin."
   ]
  },
  {
   "cell_type": "code",
   "execution_count": null,
   "id": "9df7fe06-413e-423a-9b90-1c9962410fe8",
   "metadata": {
    "tags": []
   },
   "outputs": [],
   "source": [
    "import numpy as np\n",
    "import matplotlib.pyplot as plt\n",
    "\n",
    "# Fixing random state for reproducibility\n",
    "np.random.seed(19680801)\n",
    "\n",
    "# some random data\n",
    "x = {{ params.sigma_x }} * np.random.randn(1000) + {{ params.x_0 }}\n",
    "y = {{ params.sigma_y }} * np.random.randn(1000) + {{ params.y_0 }}\n",
    "\n",
    "def scatter_hist(x, y, ax, ax_histx, ax_histy):\n",
    "    # no labels\n",
    "    ax_histx.tick_params(axis=\"x\", labelbottom=False)\n",
    "    ax_histy.tick_params(axis=\"y\", labelleft=False)\n",
    "\n",
    "    # the scatter plot:\n",
    "    ax.scatter(x, y, c=\"#058b8c\")\n",
    "\n",
    "    # now determine nice limits by hand:\n",
    "    binwidth = 0.25\n",
    "    xymax = max(np.max(np.abs(x)), np.max(np.abs(y)))\n",
    "    lim = (int(xymax/binwidth) + 1) * binwidth\n",
    "\n",
    "    bins = np.arange(-lim, lim + binwidth, binwidth)\n",
    "    ax_histx.hist(x, bins=bins, color=\"#00babc\")\n",
    "    ax_histy.hist(y, bins=bins, orientation='horizontal', color=\"#00babc\")"
   ]
  },
  {
   "cell_type": "code",
   "execution_count": null,
   "id": "cb5b3c94-5f39-469f-96e4-fa603af20166",
   "metadata": {
    "tags": []
   },
   "outputs": [],
   "source": [
    "# start with a square Figure\n",
    "fig = plt.figure(figsize=(8, 8))\n",
    "\n",
    "# Add a gridspec with two rows and two columns and a ratio of 2 to 7 between\n",
    "# the size of the marginal axes and the main axes in both directions.\n",
    "# Also adjust the subplot parameters for a square plot.\n",
    "gs = fig.add_gridspec(2, 2,  width_ratios=(7, 2), height_ratios=(2, 7),\n",
    "                      left=0.1, right=0.9, bottom=0.1, top=0.9,\n",
    "                      wspace=0.05, hspace=0.05)\n",
    "\n",
    "ax = fig.add_subplot(gs[1, 0])\n",
    "ax_histx = fig.add_subplot(gs[0, 0], sharex=ax)\n",
    "ax_histy = fig.add_subplot(gs[1, 1], sharey=ax)\n",
    "\n",
    "# use the previously defined function\n",
    "scatter_hist(x, y, ax, ax_histx, ax_histy)\n",
    "\n",
    "plt.show()"
   ]
  },
  {
   "cell_type": "code",
   "execution_count": null,
   "id": "c4bf6dac-1ff8-451e-a926-2acacb11066a",
   "metadata": {},
   "outputs": [],
   "source": []
  }
 ],
 "metadata": {
  "kernelspec": {
   "display_name": "LSST",
   "language": "python",
   "name": "lsst"
  },
  "language_info": {
   "codemirror_mode": {
    "name": "ipython",
    "version": 3
   },
   "file_extension": ".py",
   "mimetype": "text/x-python",
   "name": "python",
   "nbconvert_exporter": "python",
   "pygments_lexer": "ipython3",
   "version": "3.10.9"
  }
 },
 "nbformat": 4,
 "nbformat_minor": 5
}
