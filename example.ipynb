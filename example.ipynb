{
 "cells": [
  {
   "cell_type": "markdown",
   "id": "bb3ce706-af1d-458d-8f08-d9aeacb7ab2d",
   "metadata": {},
   "source": [
    "# Example Times Square Notebook"
   ]
  },
  {
   "cell_type": "code",
   "execution_count": null,
   "id": "6efec68a-3279-4341-8d19-135c4992b03b",
   "metadata": {},
   "outputs": [],
   "source": [
    "# Parameters cell. Set defaults here\n",
    "# Times Square replaces this cell with user values.\n",
    "import datetime  # specially imported by Times Square\n",
    "\n",
    "site = \"Rubin AuxTel\"\n",
    "date = datetime.datetime.fromisoformat(\"2024-02-21T12:00-03:00\")"
   ]
  },
  {
   "cell_type": "code",
   "execution_count": null,
   "id": "789b3c99-1575-4f50-ad7f-16522362d92b",
   "metadata": {},
   "outputs": [],
   "source": [
    "from astroplan import Observer"
   ]
  },
  {
   "cell_type": "code",
   "execution_count": null,
   "id": "ed7f063d-b625-4ed2-ab3d-c82694214b78",
   "metadata": {},
   "outputs": [],
   "source": [
    "obs_site = Observer.at_site(site)\n",
    "moon_illumination = obs_site.moon_illumination(date) * 100.\n",
    "moonrise_datetime = obs_site.moon_rise_time(\n",
    "    date,\n",
    "    which=\"nearest\"\n",
    ").to_datetime(timezone=date.tzinfo)\n",
    "moonset_datetime = obs_site.moon_set_time(\n",
    "    date,\n",
    "    which=\"next\"\n",
    ").to_datetime(timezone=date.tzinfo)\n",
    "print(f\"Site: {site} on {date.strftime('%Y-%m-%d')}\")\n",
    "print(f\"  Moon illumination: {moon_illumination:.1f}%\")\n",
    "print(f\"  Moon rise: {moonrise_datetime.isoformat()}\")\n",
    "print(f\"  Moon set:  {moonset_datetime.isoformat()}\")"
   ]
  },
  {
   "cell_type": "code",
   "execution_count": null,
   "id": "e79d9e84-be90-4095-905b-5724b8e7e25a",
   "metadata": {},
   "outputs": [],
   "source": []
  }
 ],
 "metadata": {
  "kernelspec": {
   "display_name": "LSST",
   "language": "python",
   "name": "lsst"
  },
  "language_info": {
   "codemirror_mode": {
    "name": "ipython",
    "version": 3
   },
   "file_extension": ".py",
   "mimetype": "text/x-python",
   "name": "python",
   "nbconvert_exporter": "python",
   "pygments_lexer": "ipython3",
   "version": "3.11.9"
  }
 },
 "nbformat": 4,
 "nbformat_minor": 5
}
