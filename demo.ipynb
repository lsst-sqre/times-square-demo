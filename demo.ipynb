{
 "cells": [
  {
   "cell_type": "markdown",
   "id": "62ba73ba-a282-4436-903e-65b630d7f3bd",
   "metadata": {},
   "source": [
    "# Sine wave\n",
    "\n",
    "Plot parameters:\n",
    "\n",
    "- Amplitude: A = {{ params.A }}\n",
    "- Y offset: y0 = {{ params.y0 }}\n",
    "- Wavelength: lambd = {{ params.lambda }}"
   ]
  },
  {
   "cell_type": "code",
   "execution_count": null,
   "id": "46aeb19e-52e3-48c6-9f8a-430a0189f34a",
   "metadata": {
    "tags": []
   },
   "outputs": [],
   "source": [
    "import matplotlib.pyplot as plt\n",
    "import numpy as np\n",
    "\n",
    "plt.style.use('seaborn-v0_8-bright')\n",
    "\n",
    "\n",
    "def plot(y0, A, lambd):\n",
    "    x = np.linspace(0, 10, 100)\n",
    "    y = y0 + A * np.sin(2 * np.pi * x / lambd)\n",
    "\n",
    "    # plot\n",
    "    fig, ax = plt.subplots()\n",
    "\n",
    "    ax.plot(x, y, linewidth=2.0)\n",
    "\n",
    "    ax.set(\n",
    "        xlim=(0, 8), xticks=np.arange(1, 8),\n",
    "        ylim=(0, 8), yticks=np.arange(1, 8)\n",
    "    )\n",
    "\n",
    "    plt.show()"
   ]
  },
  {
   "cell_type": "code",
   "execution_count": null,
   "id": "4e5b310c-65ce-4855-b4fd-3426c12a3991",
   "metadata": {},
   "outputs": [],
   "source": [
    "plot({{ params.y0 }}, {{ params.A }}, {{ params.lambda }})"
   ]
  },
  {
   "cell_type": "code",
   "execution_count": null,
   "id": "977ece69-8f79-4eda-9d32-1456c776eafc",
   "metadata": {},
   "outputs": [],
   "source": []
  }
 ],
 "metadata": {
  "kernelspec": {
   "display_name": "LSST",
   "language": "python",
   "name": "lsst"
  },
  "language_info": {
   "codemirror_mode": {
    "name": "ipython",
    "version": 3
   },
   "file_extension": ".py",
   "mimetype": "text/x-python",
   "name": "python",
   "nbconvert_exporter": "python",
   "pygments_lexer": "ipython3",
   "version": "3.10.9"
  }
 },
 "nbformat": 4,
 "nbformat_minor": 5
}
